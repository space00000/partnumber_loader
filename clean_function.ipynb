{
 "cells": [
  {
   "cell_type": "code",
   "execution_count": 192,
   "metadata": {},
   "outputs": [],
   "source": [
    "import pandas as pd\n",
    "import os\n",
    "\n",
    "specs_path = 'C:/Users/GERARDITO/OneDrive - ASUS/Database/SQL/input/'\n",
    "\n",
    "specs_asus_path = os.path.join(specs_path, 'specs_asus.xlsx')"
   ]
  },
  {
   "cell_type": "code",
   "execution_count": 193,
   "metadata": {},
   "outputs": [],
   "source": [
    "def clean_spec_gaming(): \n",
    "\n",
    "    specs_gaming = pd.read_excel(specs_asus_path, sheet_name='GAMING NOTEBOOK_Spec')\n",
    "\n",
    "    df = pd.DataFrame(specs_gaming)\n",
    "\n",
    "    df['display_original'] = df['Resolution'] + \" \" + df['Panel Size'] + \" \" + df['Refresh Rate']\n",
    "    df['accessories_original'] = df['Bundled Peripherals'] + \" \" + df['Additional Accessories']\n",
    "    df['brand_name'] = 'Asus'\n",
    "    df['business_unit'] = 'Gaming'\n",
    "\n",
    "    df = df.rename(columns={'Part No':'part_number', 'Model Name':'model_name','BASE UNIT':'base_unit',\n",
    "                            'Processor':'cpu_original','System Storage Installed':'storage_original',\n",
    "                            'Total System Memory':'ram_original','Graphic':'gpu_original','Color':'color_original',\n",
    "                            'Wi-Fi/Bluetooth':'features_original','I/O Ports':'ports_original','Battery':'battery_original',\n",
    "                            'Weight':'weight_original','Office':'msoffice_original','EAN Code':'EAN','UPC Code':'UPC'})\n",
    "    \n",
    "    df.fillna('Not applicable', inplace=True)\n",
    "\n",
    "    df = df[['part_number', 'model_name', 'base_unit', 'brand_name', 'cpu_original','storage_original',\n",
    "                'ram_original','display_original','gpu_original','color_original','accessories_original','features_original',\n",
    "                'ports_original','battery_original','weight_original','msoffice_original','EAN','UPC','business_unit']]\n",
    "\n",
    "    print(df)"
   ]
  },
  {
   "cell_type": "code",
   "execution_count": 194,
   "metadata": {},
   "outputs": [],
   "source": [
    "def clean_spec_notebook(): \n",
    "\n",
    "    specs_gaming = pd.read_excel(specs_asus_path, sheet_name='NOTEBOOK_Spec')\n",
    "\n",
    "    df = pd.DataFrame(specs_gaming)\n",
    "\n",
    "    df['display_original'] = df['Resolution'] + \" \" + df['Panel Size'] + \" \" + df['Refresh rate']\n",
    "    df['accessories_original'] = df['Included in the Box']\n",
    "    df['brand_name'] = 'Asus'\n",
    "    df['business_unit'] = 'Notebook'\n",
    "\n",
    "    df = df.rename(columns={'Part No':'part_number', 'Model Name':'model_name','BASE UNIT':'base_unit',\n",
    "                            'Processor':'cpu_original','Storage':'storage_original',\n",
    "                            'Total System Memory':'ram_original','Intergrated GPU':'gpu_original','LCD cover-color':'color_original',\n",
    "                            'Wireless':'features_original','I/O ports':'ports_original','Battery':'battery_original',\n",
    "                            'Weight (with Battery)':'weight_original','Office':'msoffice_original','EAN Code':'EAN','UPC Code':'UPC'})\n",
    "    \n",
    "    df.fillna('Not applicable', inplace=True)\n",
    "\n",
    "    df = df[['part_number', 'model_name', 'base_unit', 'brand_name', 'cpu_original','storage_original',\n",
    "                'ram_original','display_original','gpu_original','color_original','accessories_original','features_original',\n",
    "                'ports_original','battery_original','weight_original','msoffice_original','EAN','UPC','business_unit']]\n",
    "\n",
    "    print(df)"
   ]
  },
  {
   "cell_type": "code",
   "execution_count": 195,
   "metadata": {},
   "outputs": [],
   "source": [
    "def clean_spec_commercial(): \n",
    "\n",
    "    specs_gaming = pd.read_excel(specs_asus_path, sheet_name='NOTEBOOK(COMMERCIAL)_Spec')\n",
    "\n",
    "    df = pd.DataFrame(specs_gaming)\n",
    "\n",
    "    df['display_original'] = df['Resolution'] + \" \" + df['Panel Size']\n",
    "    df['accessories_original'] = df['Included in the Box']\n",
    "    df['brand_name'] = 'Asus'\n",
    "    df['business_unit'] = 'Commercial'\n",
    "\n",
    "    df = df.rename(columns={'Part No':'part_number', 'Model Name':'model_name','BASE UNIT':'base_unit',\n",
    "                            'Processor':'cpu_original','Storage':'storage_original',\n",
    "                            'On board memory':'ram_original','Graphics':'gpu_original','LCD cover-color':'color_original',\n",
    "                            'Wireless':'features_original','I/O ports':'ports_original','Battery':'battery_original',\n",
    "                            'Weight (with Battery)':'weight_original','Office':'msoffice_original','EAN Code':'EAN','UPC Code':'UPC'})\n",
    "\n",
    "    df.fillna('Not applicable', inplace=True)\n",
    "\n",
    "    df = df[['part_number', 'model_name', 'base_unit', 'brand_name', 'cpu_original','storage_original',\n",
    "                'ram_original','display_original','gpu_original','color_original','accessories_original','features_original',\n",
    "                'ports_original','battery_original','weight_original','msoffice_original','EAN','UPC','business_unit']]\n",
    "\n",
    "    \n",
    "    print(df)"
   ]
  },
  {
   "cell_type": "code",
   "execution_count": 196,
   "metadata": {},
   "outputs": [],
   "source": [
    "def clean_spec_aio(): \n",
    "\n",
    "    specs_gaming = pd.read_excel(specs_asus_path, sheet_name='ALL IN ONE_Spec')\n",
    "\n",
    "    df = pd.DataFrame(specs_gaming)\n",
    "\n",
    "    df['display_original'] = df['Resolution'] + \" \" + df['Panel Size']\n",
    "    df['accessories_original'] = df['Included in the box ']\n",
    "    df['brand_name'] = 'Asus'\n",
    "    df['business_unit'] = 'All in one'\n",
    "    df['cpu_original'] = df['On board processor']\n",
    "    df['ports_original'] = df['Side I/O Port'] + \" \" + df['Back I/O Port']\n",
    "\n",
    "    df = df.rename(columns={'Part No':'part_number', 'Model Name':'model_name','BASE UNIT':'base_unit',\n",
    "                            'Storage':'storage_original',\n",
    "                            'DIMM Memory':'ram_original','Integrated GPU':'gpu_original','ID Color':'color_original',\n",
    "                            'Wireless':'features_original','Battery':'battery_original',\n",
    "                            'Weight':'weight_original','Office':'msoffice_original','EAN Code':'EAN','UPC Code':'UPC'})\n",
    "\n",
    "    df.fillna('Not applicable', inplace=True)\n",
    "\n",
    "    df = df[['part_number', 'model_name', 'base_unit', 'brand_name', 'cpu_original','storage_original',\n",
    "                'ram_original','display_original','gpu_original','color_original','accessories_original','features_original',\n",
    "                'ports_original','battery_original','weight_original','msoffice_original','EAN','UPC','business_unit']]\n",
    "\n",
    "    print(df)\n",
    "\n",
    "    df.to_excel(\"C:/Users/GERARDITO/Desktop/aio_spec.xlsx\")"
   ]
  }
 ],
 "metadata": {
  "kernelspec": {
   "display_name": "Python 3.10.7 64-bit",
   "language": "python",
   "name": "python3"
  },
  "language_info": {
   "codemirror_mode": {
    "name": "ipython",
    "version": 3
   },
   "file_extension": ".py",
   "mimetype": "text/x-python",
   "name": "python",
   "nbconvert_exporter": "python",
   "pygments_lexer": "ipython3",
   "version": "3.10.7"
  },
  "orig_nbformat": 4,
  "vscode": {
   "interpreter": {
    "hash": "74a27ae9c900ac01cd3d90349cab9c014337781a9593577a26f65574ac168aa7"
   }
  }
 },
 "nbformat": 4,
 "nbformat_minor": 2
}
